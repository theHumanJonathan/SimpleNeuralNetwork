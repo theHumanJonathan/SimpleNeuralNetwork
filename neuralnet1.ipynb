{
 "cells": [
  {
   "cell_type": "code",
   "execution_count": 1,
   "metadata": {},
   "outputs": [],
   "source": [
    "import  numpy"
   ]
  },
  {
   "cell_type": "code",
   "execution_count": 57,
   "metadata": {},
   "outputs": [],
   "source": [
    "class LinearLayer:\n",
    "    '''A linear dense layer for a neural network.'''\n",
    "\n",
    "    def __init__(self, input_size, output_size):\n",
    "        '''Initialize the layer with random weights and biases.'''\n",
    "        self.input_size = input_size\n",
    "        self.output_size = output_size\n",
    "        self.weights = numpy.random.randn(output_size, input_size)\n",
    "        self.biases = numpy.random.randn(output_size)\n",
    "\n",
    "    def forward(self, inputs):\n",
    "        '''Forward pass through the layer.'''\n",
    "        self.inputs = inputs\n",
    "        return numpy.matmul(self.weights, inputs) + self.biases\n",
    "    \n",
    "    def backward(self, gradients):\n",
    "        '''Backward pass through the layer.'''\n",
    "        self.weight_gradients = numpy.outer(gradients, self.inputs)\n",
    "        self.bias_gradients = gradients\n",
    "        self.input_gradients = numpy.matmul(self.weights.T, gradients)\n",
    "        return self.input_gradients\n",
    "    \n",
    "    def update(self, learning_rate):\n",
    "        '''Update the weights and biases of the layer.'''\n",
    "        self.weights -= learning_rate * self.weight_gradients\n",
    "        self.biases -= learning_rate * self.bias_gradients\n",
    "    \n",
    "\n",
    "\n",
    "class ReluLayer:\n",
    "    '''A ReLU activation layer for a neural network.'''\n",
    "\n",
    "    def forward(self, inputs):\n",
    "        '''Forward pass through the layer.'''\n",
    "        self.inputs = inputs\n",
    "        return numpy.maximum(0, inputs)\n",
    "\n",
    "    def backward(self, gradients):\n",
    "        '''Backward pass through the layer.'''\n",
    "        return gradients * (self.inputs > 0)\n",
    "    \n",
    "    def update(self, learning_rate):\n",
    "        '''No update needed for ReLU activation layer.'''\n",
    "        pass\n",
    "    \n",
    "\n",
    "    \n",
    "    "
   ]
  },
  {
   "cell_type": "code",
   "execution_count": null,
   "metadata": {},
   "outputs": [],
   "source": [
    "# a neural network \n",
    "\n",
    "class NeuralNetwork:\n",
    "\n",
    "    def __init__(self, layers):\n",
    "        '''Initialize the network with a list of layers.'''\n",
    "        self.layers = layers    \n",
    "\n",
    "    def forward(self, inputs):\n",
    "        '''Forward pass through the\n",
    "        network.'''\n",
    "        for layer in self.layers:\n",
    "            inputs = layer.forward(inputs)\n",
    "        return inputs\n",
    "    \n",
    "    def backward(self, gradients):\n",
    "        '''Backward pass through the\n",
    "        network.'''\n",
    "        for layer in reversed(self.layers):\n",
    "            gradients = layer.backward(gradients)\n",
    "        return gradients\n",
    "    \n",
    "    def update(self, learning_rate):\n",
    "        '''Update the weights and biases of the network.'''\n",
    "        for layer in self.layers:\n",
    "            layer.update(learning_rate)\n",
    "\n",
    "        "
   ]
  },
  {
   "cell_type": "code",
   "execution_count": 58,
   "metadata": {},
   "outputs": [
    {
     "name": "stdout",
     "output_type": "stream",
     "text": [
      "[-1.6686057  -2.45254124]\n"
     ]
    }
   ],
   "source": [
    "# A test for the forward pass\n",
    "layer = LinearLayer(3, 2)\n",
    "inputs = numpy.array([1, 2, 3])\n",
    "outputs = layer.forward(inputs)\n",
    "print(outputs)"
   ]
  },
  {
   "cell_type": "code",
   "execution_count": 59,
   "metadata": {},
   "outputs": [
    {
     "name": "stdout",
     "output_type": "stream",
     "text": [
      "[0 0 1]\n"
     ]
    }
   ],
   "source": [
    "# Test the relu layer\n",
    "inputs = numpy.array([-1, 0, 1])\n",
    "relu = ReluLayer()\n",
    "outputs = relu.forward(inputs)\n",
    "print(outputs)\n",
    "\n"
   ]
  },
  {
   "cell_type": "code",
   "execution_count": 49,
   "metadata": {},
   "outputs": [],
   "source": [
    "def target_function(inputs):\n",
    "    '''The target function for the test.'''\n",
    "    matrix = numpy.array([[-2, 5, -1.5], [3, -1, 2]])\n",
    "    bias = numpy.array([-2, 1])\n",
    "    return numpy.matmul(matrix, inputs) + bias\n",
    "\n",
    "def target_function2(inputs):\n",
    "    '''The target function for the test.'''\n",
    "    matrix = numpy.array([[2]])\n",
    "    bias = numpy.array([1])\n",
    "    return numpy.matmul(matrix, inputs) + bias\n"
   ]
  },
  {
   "cell_type": "code",
   "execution_count": 13,
   "metadata": {},
   "outputs": [],
   "source": [
    "def mse_loss(predictions, targets):\n",
    "    '''Mean squared error loss function.'''\n",
    "    return numpy.mean((predictions - targets) ** 2)\n",
    "\n",
    "def mse_loss_gradient(predictions, targets):\n",
    "    '''Gradient of the mean squared error loss function.'''\n",
    "    return 2 * (predictions - targets) / targets.size"
   ]
  },
  {
   "cell_type": "code",
   "execution_count": 29,
   "metadata": {},
   "outputs": [
    {
     "name": "stdout",
     "output_type": "stream",
     "text": [
      "258.46960618437566\n",
      "[ -6.69441377 -21.72841542]\n"
     ]
    }
   ],
   "source": [
    "random_inputs = numpy.random.randn(3)\n",
    "targets = target_function(random_inputs)\n",
    "predictions = layer.forward(random_inputs)\n",
    "loss = mse_loss(predictions, targets)\n",
    "print(loss)\n",
    "gradients = mse_loss_gradient(predictions, targets)\n",
    "print(gradients)\n"
   ]
  },
  {
   "cell_type": "code",
   "execution_count": 30,
   "metadata": {},
   "outputs": [
    {
     "name": "stdout",
     "output_type": "stream",
     "text": [
      "[[ -2.37873117 -13.25597232  -5.17284706]\n",
      " [ -7.72077449 -43.02561555 -16.78978527]]\n",
      "[ -6.69441377 -21.72841542]\n",
      "[31.03659139 11.97990851  7.07195603]\n"
     ]
    }
   ],
   "source": [
    "layer.backward(gradients)\n",
    "\n",
    "print(layer.weight_gradients)\n",
    "print(layer.bias_gradients)\n",
    "print(layer.input_gradients)"
   ]
  },
  {
   "cell_type": "code",
   "execution_count": 31,
   "metadata": {},
   "outputs": [],
   "source": [
    "# update the weights and biases\n",
    "learning_rate = 0.001\n",
    "layer.weights -= learning_rate * layer.weight_gradients\n",
    "layer.biases -= learning_rate * layer.bias_gradients\n"
   ]
  },
  {
   "cell_type": "code",
   "execution_count": 32,
   "metadata": {},
   "outputs": [
    {
     "name": "stdout",
     "output_type": "stream",
     "text": [
      "5575.194020304282\n"
     ]
    }
   ],
   "source": [
    "# Recheck the loss\n",
    "predictions = layer.forward(random_inputs)\n",
    "loss = mse_loss(predictions, targets)\n",
    "print(loss)"
   ]
  },
  {
   "cell_type": "code",
   "execution_count": 54,
   "metadata": {},
   "outputs": [
    {
     "name": "stdout",
     "output_type": "stream",
     "text": [
      "Epoch 0, loss 13.292167519795743\n",
      "Epoch 1, loss 8.870831246260037\n",
      "Epoch 2, loss 5.920206418263552\n",
      "Epoch 3, loss 3.951058434904286\n",
      "Epoch 4, loss 2.636903153064999\n",
      "Epoch 5, loss 1.759863897046754\n",
      "Epoch 6, loss 1.1745410861578751\n",
      "Epoch 7, loss 0.7839017374433622\n",
      "Epoch 8, loss 0.5231899314340434\n",
      "Epoch 9, loss 0.34918977640562393\n",
      "Epoch 10, loss 0.23306019723805724\n",
      "Epoch 11, loss 0.15555329073838667\n",
      "Epoch 12, loss 0.10382330678224612\n",
      "Epoch 13, loss 0.06929711101564455\n",
      "Epoch 14, loss 0.04625301826257158\n",
      "Epoch 15, loss 0.030872355200541653\n",
      "Epoch 16, loss 0.020606500396019207\n",
      "Epoch 17, loss 0.013754461015095889\n",
      "Epoch 18, loss 0.009180954355969571\n",
      "Epoch 19, loss 0.006128258244881912\n",
      "Epoch 20, loss 0.004090640642780727\n",
      "Epoch 21, loss 0.0027305535866619583\n",
      "Epoch 22, loss 0.0018227002237851905\n",
      "Epoch 23, loss 0.0012167042432393894\n",
      "Epoch 24, loss 0.0008121945979884407\n",
      "Epoch 25, loss 0.0005421763068897534\n",
      "Epoch 26, loss 0.0003619315183328732\n",
      "Epoch 27, loss 0.00024161159566712283\n",
      "Epoch 28, loss 0.00016129269925925583\n",
      "Epoch 29, loss 0.00010767559573138801\n",
      "Epoch 30, loss 7.188289565548606e-05\n",
      "Epoch 31, loss 4.7988770308313117e-05\n",
      "Epoch 32, loss 3.203756711096404e-05\n",
      "Epoch 33, loss 2.138874773634177e-05\n",
      "Epoch 34, loss 1.4279637509792503e-05\n",
      "Epoch 35, loss 9.533559402024208e-06\n",
      "Epoch 36, loss 6.365010364428003e-06\n",
      "Epoch 37, loss 4.2496129175009904e-06\n",
      "Epoch 38, loss 2.8373043798280033e-06\n",
      "Epoch 39, loss 1.894387666720883e-06\n",
      "Epoch 40, loss 1.2648477113125815e-06\n",
      "Epoch 41, loss 8.445281936452932e-07\n",
      "Epoch 42, loss 5.638929666087051e-07\n",
      "Epoch 43, loss 3.7651813213802427e-07\n",
      "Epoch 44, loss 2.514096178643361e-07\n",
      "Epoch 45, loss 1.6787450210915468e-07\n",
      "Epoch 46, loss 1.1209713894709545e-07\n",
      "Epoch 47, loss 7.4853367708996e-08\n",
      "Epoch 48, loss 4.998449070104326e-08\n",
      "Epoch 49, loss 3.337846770095412e-08\n",
      "Epoch 50, loss 2.2289729839453415e-08\n",
      "Epoch 51, loss 1.488505989408045e-08\n",
      "Epoch 52, loss 9.940399305373276e-09\n",
      "Epoch 53, loss 6.638418478171881e-09\n",
      "Epoch 54, loss 4.4333606850095805e-09\n",
      "Epoch 55, loss 2.9608011464194237e-09\n",
      "Epoch 56, loss 1.9773941421016643e-09\n",
      "Epoch 57, loss 1.3206421934873934e-09\n",
      "Epoch 58, loss 8.820335628933611e-10\n",
      "Epoch 59, loss 5.891056215177979e-10\n",
      "Epoch 60, loss 3.934680138876466e-10\n",
      "Epoch 61, loss 2.6280523224069915e-10\n",
      "Epoch 62, loss 1.7553631975146114e-10\n",
      "Epoch 63, loss 1.1724881915485703e-10\n",
      "Epoch 64, loss 7.831745651526307e-11\n",
      "Epoch 65, loss 5.231393418413187e-11\n",
      "Epoch 66, loss 3.494499656655774e-11\n",
      "Epoch 67, loss 2.3343261771691507e-11\n",
      "Epoch 68, loss 1.5593625524688637e-11\n",
      "Epoch 69, loss 1.0416979021036134e-11\n",
      "Epoch 70, loss 6.958982021538463e-12\n",
      "Epoch 71, loss 4.648993990523069e-12\n",
      "Epoch 72, loss 3.1058587944888906e-12\n",
      "Epoch 73, loss 2.0749803829786925e-12\n",
      "Epoch 74, loss 1.3862959586799601e-12\n",
      "Epoch 75, loss 9.262062587047592e-13\n",
      "Epoch 76, loss 6.188271584162151e-13\n",
      "Epoch 77, loss 4.1346717701596445e-13\n",
      "Epoch 78, loss 2.762630766631485e-13\n",
      "Epoch 79, loss 1.8459286003850895e-13\n",
      "Epoch 80, loss 1.2334379894808453e-13\n",
      "Epoch 81, loss 8.241954628510494e-14\n",
      "Epoch 82, loss 5.50749011922995e-14\n",
      "Epoch 83, loss 3.68034013791193e-14\n",
      "Epoch 84, loss 2.4594219387099944e-14\n",
      "Epoch 85, loss 1.6435734048631216e-14\n",
      "Epoch 86, loss 1.0983892502181881e-14\n",
      "Epoch 87, loss 7.34065245694449e-15\n",
      "Epoch 88, loss 4.905964593569493e-15\n",
      "Epoch 89, loss 3.2788810589845648e-15\n",
      "Epoch 90, loss 2.191484839933413e-15\n",
      "Epoch 91, loss 1.4647484154965338e-15\n",
      "Epoch 92, loss 9.790379440166407e-16\n",
      "Epoch 93, loss 6.544070318367862e-16\n",
      "Epoch 94, loss 4.3742999695039754e-16\n",
      "Epoch 95, loss 2.9240277345225517e-16\n",
      "Epoch 96, loss 1.9546397518077093e-16\n",
      "Epoch 97, loss 1.3066659678234546e-16\n",
      "Epoch 98, loss 8.735245539976047e-17\n",
      "Epoch 99, loss 5.839805192336445e-17\n",
      "Validation loss: 1.6431975938928903e-16\n"
     ]
    }
   ],
   "source": [
    "# run a simulation\n",
    "\n",
    "# create a validation inputs with 100 samples\n",
    "validation_input = numpy.random.randn(100, 1)\n",
    "validation_targets = [target_function2(i) for i in validation_input]\n",
    "\n",
    "# create training data\n",
    "training_input = numpy.random.randn(1000, 1)\n",
    "training_targets = [target_function2(i) for i in training_input]\n",
    "\n",
    "# Create a linear layer\n",
    "layer = LinearLayer(1, 1)\n",
    "\n",
    "learning_rate = 0.0001\n",
    "\n",
    "# Train the layer for 1000 epochs\n",
    "for epoch in range(100):\n",
    "    for inputs, targets in zip(training_input, training_targets):\n",
    "        predictions = layer.forward(inputs)\n",
    "        loss = mse_loss(predictions, targets)\n",
    "        gradients = mse_loss_gradient(predictions, targets)\n",
    "        layer.backward(gradients)\n",
    "        layer.weights -= learning_rate * layer.weight_gradients\n",
    "        layer.biases -= learning_rate * layer.bias_gradients\n",
    "    print(f'Epoch {epoch}, loss {loss}')\n",
    "\n",
    "# Validate the model\n",
    "validation_predictions = [layer.forward(i) for i in validation_input]\n",
    "validation_loss = mse_loss(numpy.array(validation_predictions), numpy.array(validation_targets))\n",
    "print(f'Validation loss: {validation_loss}')\n",
    "\n"
   ]
  },
  {
   "cell_type": "code",
   "execution_count": 55,
   "metadata": {},
   "outputs": [
    {
     "name": "stdout",
     "output_type": "stream",
     "text": [
      "[[1.99999999]]\n",
      "[1.]\n"
     ]
    }
   ],
   "source": [
    "print(layer.weights)\n",
    "print(layer.biases)\n"
   ]
  },
  {
   "cell_type": "code",
   "execution_count": 53,
   "metadata": {},
   "outputs": [
    {
     "name": "stderr",
     "output_type": "stream",
     "text": [
      "Matplotlib is building the font cache; this may take a moment.\n"
     ]
    },
    {
     "data": {
      "image/png": "[encoded data removed]",
      "text/plain": [
       "<Figure size 640x480 with 1 Axes>"
      ]
     },
     "metadata": {},
     "output_type": "display_data"
    }
   ],
   "source": [
    "# Plot the validation data\n",
    "import matplotlib.pyplot as plt\n",
    "plt.scatter(validation_input, validation_targets)\n",
    "plt.scatter(validation_input, validation_predictions)\n",
    "plt.show()\n"
   ]
  },
  {
   "cell_type": "code",
   "execution_count": null,
   "metadata": {},
   "outputs": [],
   "source": []
  }
 ],
 "metadata": {
  "kernelspec": {
   "display_name": "neuralnet",
   "language": "python",
   "name": "python3"
  },
  "language_info": {
   "codemirror_mode": {
    "name": "ipython",
    "version": 3
   },
   "file_extension": ".py",
   "mimetype": "text/x-python",
   "name": "python",
   "nbconvert_exporter": "python",
   "pygments_lexer": "ipython3",
   "version": "3.12.3"
  }
 },
 "nbformat": 4,
 "nbformat_minor": 2
}
